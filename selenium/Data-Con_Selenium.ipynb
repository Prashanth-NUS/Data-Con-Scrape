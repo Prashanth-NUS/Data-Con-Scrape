{
 "metadata": {
  "name": "",
  "signature": "sha256:254b563221f92c014b54e595a5df36e25f1f15154477ba32ceb4dc9f8163eae5"
 },
 "nbformat": 3,
 "nbformat_minor": 0,
 "worksheets": [
  {
   "cells": [
    {
     "cell_type": "markdown",
     "metadata": {},
     "source": [
      "##Scraping with Selenium\n",
      "\n",
      "###What is Selenium? \n",
      "\n",
      "Selenium is a webdriver: it creates an instance of your browser and uses it to interact with pages on the web, programmatically. The website \u201csees\u201d is Chrome or Firefox or IE; it does not see Python or Selenium. That makes it a lot harder for the website to tell your bot from a human being. (Though anything google is pretty good at figuring it out). You can then use the webdriver to interact with the page, type in text boxes and forms, click links, etc. This also allows you to get the source of elements that load dynamically, which are not yet rendered when you retrieve the html through a simple GET request. "
     ]
    },
    {
     "cell_type": "markdown",
     "metadata": {},
     "source": [
      "###Installing Selenium\n",
      "\n",
      "To install the Selenium bindings for Python:\n",
      "\n",
      "`pip install selenium`\n",
      "\n",
      "You also need a \u201cdriver\" (a small program that allows Selenium to \u201cdrive\u201d your browser). Download the latest version of [chromedriver](http://chromedriver.storage.googleapis.com/index.html?path=2.10/), unzip it, and note where you saved the unzipped file (saving it in this directory is a good idea).\n"
     ]
    },
    {
     "cell_type": "code",
     "collapsed": false,
     "input": [
      "from selenium import webdriver\n",
      "import os\n",
      "import sys\n",
      "\n",
      "#http://stackoverflow.com/questions/8255929/running-webdriver-chrome-with-selenium\n",
      "chromedriver = './chromedriver'\n",
      "os.environ[\"webdriver.chrome.driver\"] = chromedriver"
     ],
     "language": "python",
     "metadata": {},
     "outputs": [],
     "prompt_number": 2
    },
    {
     "cell_type": "code",
     "collapsed": false,
     "input": [
      "driver = webdriver.Chrome(chromedriver)"
     ],
     "language": "python",
     "metadata": {},
     "outputs": [],
     "prompt_number": 2
    },
    {
     "cell_type": "markdown",
     "metadata": {},
     "source": [
      "##First step: get a webpage\n",
      "\n",
      "`driver.get(url)` should open the webpage boxofficemojo.com in your webdriver window."
     ]
    },
    {
     "cell_type": "code",
     "collapsed": false,
     "input": [
      "url = 'http://boxofficemojo.com/'\n",
      "driver.get(url)"
     ],
     "language": "python",
     "metadata": {},
     "outputs": [],
     "prompt_number": 9
    },
    {
     "cell_type": "markdown",
     "metadata": {},
     "source": [
      "##Entering text and selenium.webdriver.common.keys\n",
      "\n",
      "By using send_keys() we can enter text into a form on our webpage.  \n",
      "We can then find the button element and \"click\" it, or (often simpler) use Keys to \"press enter\" and submit our form."
     ]
    },
    {
     "cell_type": "code",
     "collapsed": false,
     "input": [
      "from selenium.webdriver.common.keys import Keys\n",
      "\n",
      "driver.find_element_by_name('q').send_keys('Titanic',Keys.ENTER)"
     ],
     "language": "python",
     "metadata": {},
     "outputs": [],
     "prompt_number": 10
    },
    {
     "cell_type": "markdown",
     "metadata": {},
     "source": [
      "##Selenium use case: clicking the 'next' button\n",
      "\n",
      "In the metacritic example, the logic of retrieving sequential pages was transparent, so we could iterate through pages by systematically constructing the url of our Request. \n",
      "\n",
      "Sometimes, this is more difficult or impossible, so we can use Selenium to click the Next button for us as we iterate through pages. "
     ]
    },
    {
     "cell_type": "code",
     "collapsed": false,
     "input": [
      "import requests\n",
      "from bs4 import BeautifulSoup\n",
      "url = 'http://www.datatau.com/'"
     ],
     "language": "python",
     "metadata": {},
     "outputs": [],
     "prompt_number": 6
    },
    {
     "cell_type": "markdown",
     "metadata": {},
     "source": [
      "###Ok guys, I failed again. \n",
      "\n",
      "I thought I found a great example of a simple use case for Selenium, since the urls for page iteration were not human-comprehensible... so I started working on this on the train home. \n",
      "\n",
      "Then I realized... duh, **yet again, I can get away from using Selenium!** Because, of course, I can just get the url of the link at the bottom that has the text \"More\", and get the next page using that link. Still just parsing the URL and using requests. \n",
      "\n",
      "So my quest for a simple scenario that requires Selenium but doesn't get too crazy for an accessible tutorial, continues. Please reach out if you think of or find something, and either share your work or we can jam on it together. \n",
      "\n",
      "If you're still reading, I had a **great time** at Boston Data-Con doing this workshop. I hope you'll find me on twitter [@laurieskelly](https://twitter.com/laurieskelly) and say hello :) "
     ]
    },
    {
     "cell_type": "code",
     "collapsed": false,
     "input": [
      "r = requests.get(url)\n",
      "soup = BeautifulSoup(r.content)"
     ],
     "language": "python",
     "metadata": {},
     "outputs": [],
     "prompt_number": 7
    },
    {
     "cell_type": "markdown",
     "metadata": {},
     "source": [
      "### So here, I was going to...\n",
      "\n",
      "build up most of the scraper using `requests` and `Beautifulsoup`, then \"hit a wall\" at the pagination stage and use Selenium to click through and produce more html that we could parse. \n",
      "\n",
      "I **actually** ended up just finishing the nice little datatau scraper, that works (I believe). \n",
      "\n",
      "You could run it as a cron job and collect all the hottest data links. If it comes across the same item twice, it \"updates\" the old dictionary, so you end up with simple timecourses of the ranking and score as the items age. \n",
      "\n",
      "There is a notebook dedicated to it called `Data-Con_tauscraper.ipynb`, and you can get a taste of it below. \n",
      "\n",
      "I have no idea what is below this cell. I have to stop playing with notebooks!!"
     ]
    },
    {
     "cell_type": "code",
     "collapsed": false,
     "input": [
      "tau_rows = soup.find('table').find_all('tr')\n",
      "# len(tau_rows) # I get 98 rows. Each item on datatau is 3 rows (2 + a spacer), and then there are 8 mystery rows"
     ],
     "language": "python",
     "metadata": {},
     "outputs": [],
     "prompt_number": 77
    },
    {
     "cell_type": "code",
     "collapsed": false,
     "input": [
      "tau = iter(tau_rows)"
     ],
     "language": "python",
     "metadata": {},
     "outputs": [],
     "prompt_number": 98
    },
    {
     "cell_type": "code",
     "collapsed": false,
     "input": [
      "n = tau.next()# print out the first few rows until we find where the good stuff starts\n",
      "print len(n.find_all('td')) \n",
      "print n.find('td')['class']"
     ],
     "language": "python",
     "metadata": {},
     "outputs": [
      {
       "output_type": "stream",
       "stream": "stdout",
       "text": [
        "3\n",
        "['title']\n"
       ]
      }
     ],
     "prompt_number": 103
    },
    {
     "cell_type": "code",
     "collapsed": false,
     "input": [
      "tau_items = []\n",
      "tau = iter(tau_rows[4:])\n",
      "items = True\n",
      "while items:\n",
      "    try:\n",
      "        tau_items.append([tau.next(),tau.next()])\n",
      "        garbage = tau.next()\n",
      "    except StopIteration:\n",
      "        items = False\n",
      "end_garbage = tau_items.pop()"
     ],
     "language": "python",
     "metadata": {},
     "outputs": [],
     "prompt_number": 54
    },
    {
     "cell_type": "code",
     "collapsed": false,
     "input": [
      "len(tau_items)"
     ],
     "language": "python",
     "metadata": {},
     "outputs": [
      {
       "metadata": {},
       "output_type": "pyout",
       "prompt_number": 55,
       "text": [
        "30"
       ]
      }
     ],
     "prompt_number": 55
    },
    {
     "cell_type": "code",
     "collapsed": false,
     "input": [
      "from datetime import datetime\n",
      "data_taus = []\n",
      "for item in tau_items:\n",
      "    rank,arrow,title = item[0].find_all('td')\n",
      "    spacer,subtext = item[1].find_all('td')\n",
      "#    print subtext.text\n",
      "    data_taus.append({\n",
      "        'id': int(subtext.find_all('a')[-1]['href'].split('=')[1]),\n",
      "        'rank':int(rank.text[:-1]),\n",
      "        'url':title.find('a')['href'],\n",
      "        'title':title.find('a').text,\n",
      "        'domain':title.find('span').text.strip().replace('(','').replace(')',''),\n",
      "        'score':int(subtext.text.split()[0]),\n",
      "        'submitter':subtext.find('a').text,\n",
      "        'submitted_ago':' '.join(subtext.text.split()[4:6]),\n",
      "        'accessed': datetime.now()\n",
      "    })\n",
      "        "
     ],
     "language": "python",
     "metadata": {},
     "outputs": [],
     "prompt_number": 75
    },
    {
     "cell_type": "code",
     "collapsed": false,
     "input": [
      "data_taus[15]"
     ],
     "language": "python",
     "metadata": {},
     "outputs": [
      {
       "metadata": {},
       "output_type": "pyout",
       "prompt_number": 76,
       "text": [
        "{'accessed': datetime.datetime(2014, 9, 14, 20, 10, 32, 220348),\n",
        " 'domain': u'youtube.com',\n",
        " 'id': 4214,\n",
        " 'rank': 16,\n",
        " 'score': 7,\n",
        " 'submitted_ago': u'4 days',\n",
        " 'submitter': u'dmagee',\n",
        " 'title': u'Jeremy Howard speaks about the future of Data Science.',\n",
        " 'url': 'https://www.youtube.com/watch?v=EaTvzGoYiWU'}"
       ]
      }
     ],
     "prompt_number": 76
    },
    {
     "cell_type": "code",
     "collapsed": false,
     "input": [
      "driver = webdriver.Chrome(chromedriver)"
     ],
     "language": "python",
     "metadata": {},
     "outputs": [],
     "prompt_number": 3
    },
    {
     "cell_type": "code",
     "collapsed": false,
     "input": [
      "\n",
      "driver.get(url)"
     ],
     "language": "python",
     "metadata": {},
     "outputs": [],
     "prompt_number": 4
    }
   ],
   "metadata": {}
  }
 ]
}