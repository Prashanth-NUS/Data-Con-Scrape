{
 "metadata": {
  "name": "",
  "signature": "sha256:fc9a8f52a6c59114a1f2684e2105a7cfba0ee3eafef51c33cfa6e13974d66ce1"
 },
 "nbformat": 3,
 "nbformat_minor": 0,
 "worksheets": [
  {
   "cells": [
    {
     "cell_type": "markdown",
     "metadata": {},
     "source": [
      "#Metacritic Scraper 2: The Scrape Continues"
     ]
    },
    {
     "cell_type": "code",
     "collapsed": false,
     "input": [
      "import metacritic_scraper as mcs\n",
      "import pickle\n",
      "from dateutil import parser\n",
      "from pprint import pprint\n",
      "import requests\n",
      "\n",
      "base_url = 'http://www.metacritic.com'\n",
      "\n",
      "reviews_rel = '/critic-reviews?num_items=25&critic_reviews_page='"
     ],
     "language": "python",
     "metadata": {},
     "outputs": [],
     "prompt_number": 1
    },
    {
     "cell_type": "markdown",
     "metadata": {},
     "source": [
      "##Above, \n",
      "I imported the functions that I made in the first metacritic notebook. They were copied into the file metacritic_scraper.py and imported here. \n",
      "\n",
      "I think I was working on this with a poor internet connection (or I wanted to stop hitting their server so much for a while), so in the cell below I get the data dictionary out of a pickle (included in the repo) instead of creating it anew. \n",
      "\n",
      "You could get the same data here using the imported functions, supplying \n",
      "`url = 'http://www.metacritic.com/browse/movies/release-date/theaters/date'` \n",
      "and running \n",
      "`soup = mcs.connection(url)`\n",
      "`movies = mcs.scrape_metacritic_list_page(soup)`\n",
      "\n",
      "## Alternatively, \n",
      "You can run metacritic_scraper.py from the command line and it will put a pickle of the data in your working directory."
     ]
    },
    {
     "cell_type": "code",
     "collapsed": false,
     "input": [
      "with open('metacritic_scrape.pkl','rb') as inpickle:\n",
      "    movies = pickle.load(inpickle)"
     ],
     "language": "python",
     "metadata": {},
     "outputs": [],
     "prompt_number": 2
    },
    {
     "cell_type": "markdown",
     "metadata": {},
     "source": [
      "###In the cell below, \n",
      "The for loop goes through the list `movies` and processes each item in place. \n",
      "\n",
      "After this runs successfully, you'll have your original list \"`movie`\" with parsed data about which critics said what about your movie, when. \n",
      "\n",
      "This takes a while because it is visiting and parsing 177 web pages. I have it output the title so that things stay interesting.\n",
      "\n",
      "##Important: \n",
      "Before you try to run this cell, go down and run the ones called \"Function Cell 1-5\" to get the functions into memory.   Otherwise, poor ipython will have no idea what you are talking about. "
     ]
    },
    {
     "cell_type": "code",
     "collapsed": false,
     "input": [
      "bad_guys = []\n",
      "for mov in movies:\n",
      "    try:\n",
      "        mov = parse_movie_reviews(check_for_redirect(mov))\n",
      "    except:\n",
      "        bad_guys.append(mov)\n",
      "        continue\n",
      "    print mov['title']\n"
     ],
     "language": "python",
     "metadata": {},
     "outputs": [
      {
       "output_type": "stream",
       "stream": "stdout",
       "text": [
        "The Identical\n",
        "As Above, So Below"
       ]
      },
      {
       "output_type": "stream",
       "stream": "stdout",
       "text": [
        "\n",
        "The November Man"
       ]
      },
      {
       "output_type": "stream",
       "stream": "stdout",
       "text": [
        "\n",
        "If I Stay"
       ]
      },
      {
       "output_type": "stream",
       "stream": "stdout",
       "text": [
        "\n",
        "Sin City: A Dame To Kill For"
       ]
      },
      {
       "output_type": "stream",
       "stream": "stdout",
       "text": [
        "\n",
        "When the Game Stands Tall"
       ]
      },
      {
       "output_type": "stream",
       "stream": "stdout",
       "text": [
        "\n",
        "The Expendables 3"
       ]
      },
      {
       "output_type": "stream",
       "stream": "stdout",
       "text": [
        "\n",
        "The Giver"
       ]
      },
      {
       "output_type": "stream",
       "stream": "stdout",
       "text": [
        "\n",
        "Let's Be Cops"
       ]
      },
      {
       "output_type": "stream",
       "stream": "stdout",
       "text": [
        "\n",
        "Into the Storm"
       ]
      },
      {
       "output_type": "stream",
       "stream": "stdout",
       "text": [
        "\n",
        "Step Up: All In"
       ]
      },
      {
       "output_type": "stream",
       "stream": "stdout",
       "text": [
        "\n",
        "Teenage Mutant Ninja Turtles"
       ]
      },
      {
       "output_type": "stream",
       "stream": "stdout",
       "text": [
        "\n",
        "The Hundred-Foot Journey"
       ]
      },
      {
       "output_type": "stream",
       "stream": "stdout",
       "text": [
        "\n",
        "What If"
       ]
      },
      {
       "output_type": "stream",
       "stream": "stdout",
       "text": [
        "\n",
        "Get On Up"
       ]
      },
      {
       "output_type": "stream",
       "stream": "stdout",
       "text": [
        "\n",
        "Guardians of the Galaxy"
       ]
      },
      {
       "output_type": "stream",
       "stream": "stdout",
       "text": [
        "\n",
        "A Most Wanted Man"
       ]
      },
      {
       "output_type": "stream",
       "stream": "stdout",
       "text": [
        "\n",
        "And So It Goes"
       ]
      },
      {
       "output_type": "stream",
       "stream": "stdout",
       "text": [
        "\n",
        "Hercules"
       ]
      },
      {
       "output_type": "stream",
       "stream": "stdout",
       "text": [
        "\n",
        "Lucy"
       ]
      },
      {
       "output_type": "stream",
       "stream": "stdout",
       "text": [
        "\n",
        "Magic in the Moonlight"
       ]
      },
      {
       "output_type": "stream",
       "stream": "stdout",
       "text": [
        "\n",
        "Persecuted"
       ]
      },
      {
       "output_type": "stream",
       "stream": "stdout",
       "text": [
        "\n",
        "Planes: Fire & Rescue"
       ]
      },
      {
       "output_type": "stream",
       "stream": "stdout",
       "text": [
        "\n",
        "Sex Tape"
       ]
      },
      {
       "output_type": "stream",
       "stream": "stdout",
       "text": [
        "\n",
        "The Purge: Anarchy"
       ]
      },
      {
       "output_type": "stream",
       "stream": "stdout",
       "text": [
        "\n",
        "Wish I Was Here"
       ]
      },
      {
       "output_type": "stream",
       "stream": "stdout",
       "text": [
        "\n",
        "Boyhood"
       ]
      },
      {
       "output_type": "stream",
       "stream": "stdout",
       "text": [
        "\n",
        "Dawn of the Planet of the Apes"
       ]
      },
      {
       "output_type": "stream",
       "stream": "stdout",
       "text": [
        "\n",
        "Born to Fly"
       ]
      },
      {
       "output_type": "stream",
       "stream": "stdout",
       "text": [
        "\n",
        "My Old Lady"
       ]
      },
      {
       "output_type": "stream",
       "stream": "stdout",
       "text": [
        "\n",
        "But Always"
       ]
      },
      {
       "output_type": "stream",
       "stream": "stdout",
       "text": [
        "\n",
        "Falcon Rising"
       ]
      },
      {
       "output_type": "stream",
       "stream": "stdout",
       "text": [
        "\n",
        "Frontera"
       ]
      },
      {
       "output_type": "stream",
       "stream": "stdout",
       "text": [
        "\n",
        "God Help the Girl"
       ]
      },
      {
       "output_type": "stream",
       "stream": "stdout",
       "text": [
        "\n",
        "Innocence"
       ]
      },
      {
       "output_type": "stream",
       "stream": "stdout",
       "text": [
        "\n",
        "Kelly & Cal"
       ]
      },
      {
       "output_type": "stream",
       "stream": "stdout",
       "text": [
        "\n",
        "Last Days in Vietnam"
       ]
      },
      {
       "output_type": "stream",
       "stream": "stdout",
       "text": [
        "\n",
        "Levitated Mass"
       ]
      },
      {
       "output_type": "stream",
       "stream": "stdout",
       "text": [
        "\n",
        "Memphis"
       ]
      },
      {
       "output_type": "stream",
       "stream": "stdout",
       "text": [
        "\n",
        "No No: A Dockumentary"
       ]
      },
      {
       "output_type": "stream",
       "stream": "stdout",
       "text": [
        "\n",
        "Once Upon a Time Ver\u00f4nica"
       ]
      },
      {
       "output_type": "stream",
       "stream": "stdout",
       "text": [
        "\n",
        "The Longest Week"
       ]
      },
      {
       "output_type": "stream",
       "stream": "stdout",
       "text": [
        "\n",
        "Thunder and the House of Magic"
       ]
      },
      {
       "output_type": "stream",
       "stream": "stdout",
       "text": [
        "\n",
        "Wetlands"
       ]
      },
      {
       "output_type": "stream",
       "stream": "stdout",
       "text": [
        "\n",
        "Rocks in My Pockets"
       ]
      },
      {
       "output_type": "stream",
       "stream": "stdout",
       "text": [
        "\n",
        "Canopy"
       ]
      },
      {
       "output_type": "stream",
       "stream": "stdout",
       "text": [
        "\n",
        "Cantinflas"
       ]
      },
      {
       "output_type": "stream",
       "stream": "stdout",
       "text": [
        "\n",
        "Jamie Marks Is Dead"
       ]
      },
      {
       "output_type": "stream",
       "stream": "stdout",
       "text": [
        "\n",
        "Kundo: Age of the Rampant"
       ]
      },
      {
       "output_type": "stream",
       "stream": "stdout",
       "text": [
        "\n",
        "Last Weekend"
       ]
      },
      {
       "output_type": "stream",
       "stream": "stdout",
       "text": [
        "\n",
        "Life of Crime"
       ]
      },
      {
       "output_type": "stream",
       "stream": "stdout",
       "text": [
        "\n",
        "Patema Inverted"
       ]
      },
      {
       "output_type": "stream",
       "stream": "stdout",
       "text": [
        "\n",
        "Second Opinion: Laetrile at Sloan-Kettering"
       ]
      },
      {
       "output_type": "stream",
       "stream": "stdout",
       "text": [
        "\n",
        "The Calling"
       ]
      },
      {
       "output_type": "stream",
       "stream": "stdout",
       "text": [
        "\n",
        "The Congress"
       ]
      },
      {
       "output_type": "stream",
       "stream": "stdout",
       "text": [
        "\n",
        "The Damned"
       ]
      },
      {
       "output_type": "stream",
       "stream": "stdout",
       "text": [
        "\n",
        "The Last of Robin Hood"
       ]
      },
      {
       "output_type": "stream",
       "stream": "stdout",
       "text": [
        "\n",
        "The Notebook"
       ]
      },
      {
       "output_type": "stream",
       "stream": "stdout",
       "text": [
        "\n",
        "The Strange Color of Your Body's Tears"
       ]
      },
      {
       "output_type": "stream",
       "stream": "stdout",
       "text": [
        "\n",
        "Starred Up"
       ]
      },
      {
       "output_type": "stream",
       "stream": "stdout",
       "text": [
        "\n",
        "Through a Lens Darkly: Black Photographers And The Emergence Of A People"
       ]
      },
      {
       "output_type": "stream",
       "stream": "stdout",
       "text": [
        "\n",
        "Are You Here"
       ]
      },
      {
       "output_type": "stream",
       "stream": "stdout",
       "text": [
        "\n",
        "Cam2Cam"
       ]
      },
      {
       "output_type": "stream",
       "stream": "stdout",
       "text": [
        "\n",
        "K2: Siren of the Himalayas"
       ]
      },
      {
       "output_type": "stream",
       "stream": "stdout",
       "text": [
        "\n",
        "Kabbalah Me"
       ]
      },
      {
       "output_type": "stream",
       "stream": "stdout",
       "text": [
        "\n",
        "Kink"
       ]
      },
      {
       "output_type": "stream",
       "stream": "stdout",
       "text": [
        "\n",
        "Love Is Strange"
       ]
      },
      {
       "output_type": "stream",
       "stream": "stdout",
       "text": [
        "\n",
        "May in the Summer"
       ]
      },
      {
       "output_type": "stream",
       "stream": "stdout",
       "text": [
        "\n",
        "Metro Manila"
       ]
      },
      {
       "output_type": "stream",
       "stream": "stdout",
       "text": [
        "\n",
        "Salvo"
       ]
      },
      {
       "output_type": "stream",
       "stream": "stdout",
       "text": [
        "\n",
        "The One I Love"
       ]
      },
      {
       "output_type": "stream",
       "stream": "stdout",
       "text": [
        "\n",
        "The Prince"
       ]
      },
      {
       "output_type": "stream",
       "stream": "stdout",
       "text": [
        "\n",
        "To Be Takei"
       ]
      },
      {
       "output_type": "stream",
       "stream": "stdout",
       "text": [
        "\n",
        "Expedition to the End of the World"
       ]
      },
      {
       "output_type": "stream",
       "stream": "stdout",
       "text": [
        "\n",
        "Winter in the Blood"
       ]
      },
      {
       "output_type": "stream",
       "stream": "stdout",
       "text": [
        "\n",
        "A Will for the Woods"
       ]
      },
      {
       "output_type": "stream",
       "stream": "stdout",
       "text": [
        "\n",
        "Abuse of Weakness"
       ]
      },
      {
       "output_type": "stream",
       "stream": "stdout",
       "text": [
        "\n",
        "Cheatin'"
       ]
      },
      {
       "output_type": "stream",
       "stream": "stdout",
       "text": [
        "\n",
        "Coldwater"
       ]
      },
      {
       "output_type": "stream",
       "stream": "stdout",
       "text": [
        "\n",
        "Dinosaur 13"
       ]
      },
      {
       "output_type": "stream",
       "stream": "stdout",
       "text": [
        "\n",
        "Fort McCoy"
       ]
      },
      {
       "output_type": "stream",
       "stream": "stdout",
       "text": [
        "\n",
        "Found"
       ]
      },
      {
       "output_type": "stream",
       "stream": "stdout",
       "text": [
        "\n",
        "Frank"
       ]
      },
      {
       "output_type": "stream",
       "stream": "stdout",
       "text": [
        "\n",
        "I Am Happiness on Earth"
       ]
      },
      {
       "output_type": "stream",
       "stream": "stdout",
       "text": [
        "\n",
        "Jake Squared"
       ]
      },
      {
       "output_type": "stream",
       "stream": "stdout",
       "text": [
        "\n",
        "Jealousy"
       ]
      },
      {
       "output_type": "stream",
       "stream": "stdout",
       "text": [
        "\n",
        "Level Five"
       ]
      },
      {
       "output_type": "stream",
       "stream": "stdout",
       "text": [
        "\n",
        "Life After Beth"
       ]
      },
      {
       "output_type": "stream",
       "stream": "stdout",
       "text": [
        "\n",
        "Mission Blue"
       ]
      },
      {
       "output_type": "stream",
       "stream": "stdout",
       "text": [
        "\n",
        "Mr. X"
       ]
      },
      {
       "output_type": "stream",
       "stream": "stdout",
       "text": [
        "\n",
        "Ragnarok"
       ]
      },
      {
       "output_type": "stream",
       "stream": "stdout",
       "text": [
        "\n",
        "Septic Man"
       ]
      },
      {
       "output_type": "stream",
       "stream": "stdout",
       "text": [
        "\n",
        "The Trip to Italy"
       ]
      },
      {
       "output_type": "stream",
       "stream": "stdout",
       "text": [
        "\n",
        "The Word"
       ]
      },
      {
       "output_type": "stream",
       "stream": "stdout",
       "text": [
        "\n",
        "We Are Mari Pepa"
       ]
      },
      {
       "output_type": "stream",
       "stream": "stdout",
       "text": [
        "\n",
        "About Alex"
       ]
      },
      {
       "output_type": "stream",
       "stream": "stdout",
       "text": [
        "\n",
        "After"
       ]
      },
      {
       "output_type": "stream",
       "stream": "stdout",
       "text": [
        "\n",
        "Deepsea Challenge 3D"
       ]
      },
      {
       "output_type": "stream",
       "stream": "stdout",
       "text": [
        "\n",
        "Fifi Howls from Happiness"
       ]
      },
      {
       "output_type": "stream",
       "stream": "stdout",
       "text": [
        "\n",
        "The Dog"
       ]
      },
      {
       "output_type": "stream",
       "stream": "stdout",
       "text": [
        "\n",
        "The Maid's Room"
       ]
      },
      {
       "output_type": "stream",
       "stream": "stdout",
       "text": [
        "\n",
        "What Now? Remind Me"
       ]
      },
      {
       "output_type": "stream",
       "stream": "stdout",
       "text": [
        "\n",
        "Web Junkie"
       ]
      },
      {
       "output_type": "stream",
       "stream": "stdout",
       "text": [
        "\n",
        "4 Minute Mile"
       ]
      },
      {
       "output_type": "stream",
       "stream": "stdout",
       "text": [
        "\n",
        "Behaving Badly"
       ]
      },
      {
       "output_type": "stream",
       "stream": "stdout",
       "text": [
        "\n",
        "Calvary"
       ]
      },
      {
       "output_type": "stream",
       "stream": "stdout",
       "text": [
        "\n",
        "Child of God"
       ]
      },
      {
       "output_type": "stream",
       "stream": "stdout",
       "text": [
        "\n",
        "Finding Fela!"
       ]
      },
      {
       "output_type": "stream",
       "stream": "stdout",
       "text": [
        "\n",
        "Moebius"
       ]
      },
      {
       "output_type": "stream",
       "stream": "stdout",
       "text": [
        "\n",
        "Rabindranath Tagore: The Poet of Eternity"
       ]
      },
      {
       "output_type": "stream",
       "stream": "stdout",
       "text": [
        "\n",
        "Rich Hill"
       ]
      },
      {
       "output_type": "stream",
       "stream": "stdout",
       "text": [
        "\n",
        "The Almost Man"
       ]
      },
      {
       "output_type": "stream",
       "stream": "stdout",
       "text": [
        "\n",
        "The Strange Little Cat"
       ]
      },
      {
       "output_type": "stream",
       "stream": "stdout",
       "text": [
        "\n",
        "War Story"
       ]
      },
      {
       "output_type": "stream",
       "stream": "stdout",
       "text": [
        "\n",
        "Beneath"
       ]
      },
      {
       "output_type": "stream",
       "stream": "stdout",
       "text": [
        "\n",
        "Cannibal"
       ]
      },
      {
       "output_type": "stream",
       "stream": "stdout",
       "text": [
        "\n",
        "Come Back to Me"
       ]
      },
      {
       "output_type": "stream",
       "stream": "stdout",
       "text": [
        "\n",
        "Happy Christmas"
       ]
      },
      {
       "output_type": "stream",
       "stream": "stdout",
       "text": [
        "\n",
        "Ironclad: Battle for Blood"
       ]
      },
      {
       "output_type": "stream",
       "stream": "stdout",
       "text": [
        "\n",
        "The Fluffy Movie"
       ]
      },
      {
       "output_type": "stream",
       "stream": "stdout",
       "text": [
        "\n",
        "The Kill Team"
       ]
      },
      {
       "output_type": "stream",
       "stream": "stdout",
       "text": [
        "\n",
        "Very Good Girls"
       ]
      },
      {
       "output_type": "stream",
       "stream": "stdout",
       "text": [
        "\n",
        "A Letter to Momo"
       ]
      },
      {
       "output_type": "stream",
       "stream": "stdout",
       "text": [
        "\n",
        "A Master Builder"
       ]
      },
      {
       "output_type": "stream",
       "stream": "stdout",
       "text": [
        "\n",
        "A Five Star Life"
       ]
      },
      {
       "output_type": "stream",
       "stream": "stdout",
       "text": [
        "\n",
        "Alive Inside"
       ]
      },
      {
       "output_type": "stream",
       "stream": "stdout",
       "text": [
        "\n",
        "Among Ravens"
       ]
      },
      {
       "output_type": "stream",
       "stream": "stdout",
       "text": [
        "\n",
        "Double Play: James Benning and Richard Linklater"
       ]
      },
      {
       "output_type": "stream",
       "stream": "stdout",
       "text": [
        "\n",
        "Fanny"
       ]
      },
      {
       "output_type": "stream",
       "stream": "stdout",
       "text": [
        "\n",
        "I Origins"
       ]
      },
      {
       "output_type": "stream",
       "stream": "stdout",
       "text": [
        "\n",
        "Mood Indigo"
       ]
      },
      {
       "output_type": "stream",
       "stream": "stdout",
       "text": [
        "\n",
        "Video Games: The Movie"
       ]
      },
      {
       "output_type": "stream",
       "stream": "stdout",
       "text": [
        "\n",
        "Affluenza"
       ]
      },
      {
       "output_type": "stream",
       "stream": "stdout",
       "text": [
        "\n",
        "As It Is in Heaven"
       ]
      },
      {
       "output_type": "stream",
       "stream": "stdout",
       "text": [
        "\n",
        "Honour"
       ]
      },
      {
       "output_type": "stream",
       "stream": "stdout",
       "text": [
        "\n",
        "Land Ho!"
       ]
      },
      {
       "output_type": "stream",
       "stream": "stdout",
       "text": [
        "\n",
        "The Battered Bastards of Baseball"
       ]
      },
      {
       "output_type": "stream",
       "stream": "stdout",
       "text": [
        "\n",
        "Underwater Dreams"
       ]
      },
      {
       "output_type": "stream",
       "stream": "stdout",
       "text": [
        "\n"
       ]
      }
     ],
     "prompt_number": 8
    },
    {
     "cell_type": "markdown",
     "metadata": {},
     "source": [
      "##Save your work\n",
      "Especially after a time consuming step, I typically save my hard-earned data to a pickle file, immediately."
     ]
    },
    {
     "cell_type": "code",
     "collapsed": false,
     "input": [
      "with open('metacritic_scrape_with_reviews.pkl','wb') as outpickle:\n",
      "    pickle.dump(movies,outpickle)"
     ],
     "language": "python",
     "metadata": {},
     "outputs": [],
     "prompt_number": 10
    },
    {
     "cell_type": "markdown",
     "metadata": {},
     "source": [
      "Below are the functions that make it work. "
     ]
    },
    {
     "cell_type": "code",
     "collapsed": false,
     "input": [
      "#Function cell 1\n",
      "def check_for_redirect(mov):\n",
      "    url = base_url + mov['rel_url']\n",
      "    headers = {'User-Agent':'Mozilla/5.0 (Macintosh; Intel Mac OS X 10_8_5)'}\n",
      "    r = requests.get(url,headers=headers)\n",
      "    if r.history:\n",
      "        r_last = r.history[len(r.history)-1]\n",
      "        if r_last.status_code == 301:\n",
      "            redirect_url = r_last.headers['location']\n",
      "            mov['pre-redirect_rel_url'] = mov['rel_url']\n",
      "            mov['rel_url'] = '/movie/'+redirect_url\n",
      "    return mov"
     ],
     "language": "python",
     "metadata": {},
     "outputs": [],
     "prompt_number": 3
    },
    {
     "cell_type": "code",
     "collapsed": true,
     "input": [
      "# Function cell 2\n",
      "def parse_movie_reviews(mov):\n",
      "    more = True\n",
      "    page = 0\n",
      "    try:\n",
      "        mov['reviews']\n",
      "    except KeyError:\n",
      "        mov['reviews'] = []\n",
      "        mov['scores'] = []\n",
      "\n",
      "    while more:\n",
      "        url = base_url+mov['rel_url']+reviews_rel+str(page)\n",
      "#        print url\n",
      "        ms = mcs.connection(url)\n",
      "        if not ms: \n",
      "            mov['bad_url'] = True\n",
      "            return mov\n",
      "        # on the first page get the general summary info\n",
      "        if page == 0:\n",
      "            mov = get_metascore(ms,mov)\n",
      "        # on each page add the reviews\n",
      "        mov = add_reviews(ms,mov)\n",
      "        # check for an active next button in the page nav\n",
      "        if more_pages(ms):\n",
      "            page += 1\n",
      "        else:\n",
      "            more = False\n",
      "    return mov"
     ],
     "language": "python",
     "metadata": {},
     "outputs": [],
     "prompt_number": 4
    },
    {
     "cell_type": "code",
     "collapsed": false,
     "input": [
      "# Function cell 3\n",
      "\n",
      "def more_pages(ms):\n",
      "    page_nav = ms.find(class_='page_nav')\n",
      "    if not page_nav:\n",
      "        return False\n",
      "    if not page_nav.find(class_='next').find('a'):\n",
      "        return False\n",
      "    return True\n",
      "    "
     ],
     "language": "python",
     "metadata": {},
     "outputs": [],
     "prompt_number": 5
    },
    {
     "cell_type": "code",
     "collapsed": false,
     "input": [
      "# Function cell 4\n",
      "\n",
      "def get_metascore(ms,mov):\n",
      "\n",
      "    score_div = ms.find(class_='score_details_module')\n",
      "\n",
      "    #metascore\n",
      "    metascore = score_div.find(attrs={'itemprop':'ratingValue'}).text\n",
      "\n",
      "    #metascore_count\n",
      "    count = None\n",
      "    count = score_div.find('strong')\n",
      "    if count:\n",
      "        count = count.text.strip().split(' ')\n",
      "        count = int(count[0])\n",
      "\n",
      "    mov.update({\n",
      "            'metascore':metascore,\n",
      "            'metascore_count':count,\n",
      "    })\n",
      "    return mov"
     ],
     "language": "python",
     "metadata": {},
     "outputs": [],
     "prompt_number": 6
    },
    {
     "cell_type": "code",
     "collapsed": false,
     "input": [
      "# Function cell 5\n",
      "\n",
      "def add_reviews(ms,mov):\n",
      "    reviews_div = ms.find(class_='critic_reviews_module')\n",
      "    reviews = reviews_div.find('ol').find_all('li',class_='critic_review')\n",
      "\n",
      "    for rev in reviews:\n",
      "        # get the source of the review\n",
      "        try:\n",
      "            source = rev.find(class_='source').text.strip()\n",
      "        except: \n",
      "            source = None\n",
      "\n",
      "        # get the author of the review\n",
      "        try: \n",
      "            author = rev.find(class_='author').find('a').text.strip()\n",
      "        except:\n",
      "            author = None\n",
      "\n",
      "        # get the score of the review\n",
      "        try: \n",
      "            score = int(rev.find(class_='review_grade').text.strip())\n",
      "        except: \n",
      "            score = None\n",
      "            \n",
      "        # get the date of the review\n",
      "        try: \n",
      "            date = parser.parse(rev.find(class_='date').text.strip())\n",
      "        except:\n",
      "            date = None\n",
      "        \n",
      "        review = {\n",
      "            'review_source':source,\n",
      "            'review_author':author,\n",
      "            'review_score':score,\n",
      "            'review_date':date\n",
      "        }\n",
      "        \n",
      "        mov['reviews'].append(review)\n",
      "        mov['scores'].append(score)\n",
      "#    print 'reviews',mov['reviews']\n",
      "#    print 'scores',mov['scores']\n",
      "    \n",
      "    return mov"
     ],
     "language": "python",
     "metadata": {},
     "outputs": [],
     "prompt_number": 7
    },
    {
     "cell_type": "markdown",
     "metadata": {},
     "source": [
      "###bullpen\n"
     ]
    },
    {
     "cell_type": "code",
     "collapsed": false,
     "input": [
      "# FOR LATER: mystery, why does second for loop give different output than first for loop?\n",
      "\n",
      "print len(b)\n",
      "#for b in bad_guys: print b['title']\n",
      "for i in range(7): print bad_guys[i]['title']\n",
      "#bad_guys[0]['title']"
     ],
     "language": "python",
     "metadata": {},
     "outputs": [
      {
       "output_type": "stream",
       "stream": "stdout",
       "text": [
        "7\n",
        "Gringo Trails\n",
        "Jason Nash Is Married\n",
        "Naked Opera\n",
        "Pay 2 Play: Democracy\u2019s High Stakes\n",
        "The Green Inferno\n",
        "The Remaining\n",
        "The Rule\n"
       ]
      }
     ],
     "prompt_number": 25
    }
   ],
   "metadata": {}
  }
 ]
}